{
 "cells": [
  {
   "cell_type": "markdown",
   "id": "7e488488-d305-4d2e-bd72-9f9c0dccbcbc",
   "metadata": {
    "tags": []
   },
   "source": [
    "# Data Science Tools and Ecosystem"
   ]
  },
  {
   "cell_type": "markdown",
   "id": "e053817c-7a97-4a19-a6ce-2b6e2823d9bf",
   "metadata": {
    "tags": []
   },
   "source": [
    "## **Author**\n",
    "Pedro Cidadão"
   ]
  },
  {
   "cell_type": "markdown",
   "id": "d91bb7af-1470-4f98-9d54-4e1cd2e41f7f",
   "metadata": {},
   "source": [
    "In this notebook, Data Science Tools and Ecosystem are summarized."
   ]
  },
  {
   "cell_type": "markdown",
   "id": "6f8d6a8b-2d37-40e1-8df6-caa01e1cf5b9",
   "metadata": {},
   "source": [
    "**Objectives:**\n",
    "\n",
    "* List popular Data Science languages \n",
    "* List popular Data Science libraries\n",
    "* List popular Data Science tools\n",
    "* Exemplify simple arithmetic in python"
   ]
  },
  {
   "cell_type": "markdown",
   "id": "219dd020-b249-43ad-9cbd-ef9e0acb18cf",
   "metadata": {},
   "source": [
    "Some of the popular languages that Data Scientists use are:\n",
    "\n",
    "1. Python\n",
    "2. R\n",
    "3. Java\n",
    "4. SQL (If considered as a Programming language - PL/SQL)\n",
    "5. Julia"
   ]
  },
  {
   "cell_type": "markdown",
   "id": "63f1b2d1-da11-4be1-8529-c322fb794e82",
   "metadata": {},
   "source": [
    "Some of the commonly used libraries used by Data Scientists include:\n",
    "\n",
    "1. NumPy\n",
    "2. Pandas\n",
    "3. MatPlotLib\n",
    "4. SciKit-Learn\n",
    "5. Seaborn"
   ]
  },
  {
   "cell_type": "markdown",
   "id": "08d93a2a-e2f2-4621-9ee2-805342e0528f",
   "metadata": {},
   "source": [
    "|Data Science Tools|\n",
    "-------------------\n",
    "|Jupyter Notebook|\n",
    "|Apache Spark|\n",
    "|Tensor Flow|\n",
    "|MongoDB|\n",
    "|Tableau|"
   ]
  },
  {
   "cell_type": "markdown",
   "id": "78429f32-7841-4fe2-8c77-c15cf7de6279",
   "metadata": {},
   "source": [
    "Below are a few examples of evaluating arithmetic expressions in Python"
   ]
  },
  {
   "cell_type": "code",
   "execution_count": 4,
   "id": "3758f51f-09c8-45c3-899e-79457ccec850",
   "metadata": {
    "tags": []
   },
   "outputs": [
    {
     "data": {
      "text/plain": [
       "17"
      ]
     },
     "execution_count": 4,
     "metadata": {},
     "output_type": "execute_result"
    }
   ],
   "source": [
    "# This a simple arithmetic expression to mutiply then add integers \n",
    "(3*4)+5"
   ]
  },
  {
   "cell_type": "code",
   "execution_count": 5,
   "id": "ef1e0cad-f3a3-4152-ae8e-42e6084c0ac3",
   "metadata": {
    "tags": []
   },
   "outputs": [
    {
     "data": {
      "text/plain": [
       "3.3333333333333335"
      ]
     },
     "execution_count": 5,
     "metadata": {},
     "output_type": "execute_result"
    }
   ],
   "source": [
    "# This will convert 200 minutes to hours by diving by 60\n",
    "200/60"
   ]
  },
  {
   "cell_type": "code",
   "execution_count": null,
   "id": "5509585d-9d87-4ec8-8853-00d7059fdcca",
   "metadata": {},
   "outputs": [],
   "source": []
  },
  {
   "cell_type": "code",
   "execution_count": null,
   "id": "c1c82c5d-6c90-4856-a0f9-c1d4f5cb50f0",
   "metadata": {},
   "outputs": [],
   "source": []
  }
 ],
 "metadata": {
  "kernelspec": {
   "display_name": "Python",
   "language": "python",
   "name": "conda-env-python-py"
  },
  "language_info": {
   "codemirror_mode": {
    "name": "ipython",
    "version": 3
   },
   "file_extension": ".py",
   "mimetype": "text/x-python",
   "name": "python",
   "nbconvert_exporter": "python",
   "pygments_lexer": "ipython3",
   "version": "3.7.12"
  }
 },
 "nbformat": 4,
 "nbformat_minor": 5
}
